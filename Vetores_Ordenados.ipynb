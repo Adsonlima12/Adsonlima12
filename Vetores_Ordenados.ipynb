{
  "nbformat": 4,
  "nbformat_minor": 0,
  "metadata": {
    "colab": {
      "provenance": []
    },
    "kernelspec": {
      "name": "python3",
      "display_name": "Python 3"
    },
    "language_info": {
      "name": "python"
    }
  },
  "cells": [
    {
      "cell_type": "markdown",
      "source": [
        "# Vetor Ordenado\n"
      ],
      "metadata": {
        "id": "zAd4YidAaGgG"
      }
    },
    {
      "cell_type": "code",
      "execution_count": 81,
      "metadata": {
        "id": "rVvu44TFZ6aQ"
      },
      "outputs": [],
      "source": [
        "import numpy as np"
      ]
    },
    {
      "cell_type": "code",
      "source": [
        "class VetorOrdenado:\n",
        "\n",
        "  def __init__(vetor, capacidade):\n",
        "    vetor.capacidade = capacidade\n",
        "    vetor.ultima_posicao = -1\n",
        "    vetor.valores = np.empty(vetor.capacidade, dtype=int)\n",
        "\n",
        "  def imprimir(vetor):\n",
        "    if vetor.ultima_posicao == -1:\n",
        "      print(\"O vetor está vazio!\")\n",
        "      return\n",
        "    for i in range(vetor.ultima_posicao + 1):\n",
        "      # print('[{}] -> {}'.format(i, vetor.valores[i])) # OU...:\n",
        "      print(f'[{i}] -> {vetor.valores[i]}')\n",
        "\n",
        "  def inserir(vetor, valor):\n",
        "    if (vetor.ultima_posicao == vetor.capacidade - 1):\n",
        "      print('Capacidade máxima do vetor atingida!')\n",
        "      return\n",
        "\n",
        "    posicao_inserida = 0\n",
        "    for i in range(vetor.ultima_posicao + 1):\n",
        "      posicao_inserida = i\n",
        "      if vetor.valores[i] > valor:\n",
        "        break\n",
        "      if i == vetor.ultima_posicao: # se já percorreu o vetor inteiro, inserir ao final\n",
        "        posicao_inserida = i + 1\n",
        "\n",
        "    x = vetor.ultima_posicao\n",
        "    while x >= posicao_inserida:\n",
        "      vetor.valores[x + 1] = vetor.valores[x]\n",
        "      x -= 1 #é o mesmo que x = x - 1\n",
        "\n",
        "    vetor.valores[posicao_inserida] = valor\n",
        "    vetor.ultima_posicao += 1\n",
        "\n",
        "\n",
        "  def pesquisa_linear(vetor, valor):\n",
        "    for i in range(vetor.ultima_posicao + 1):\n",
        "      if vetor.valores[i] > valor:\n",
        "        return -1\n",
        "      if vetor.valores[i] == valor:\n",
        "        return i\n",
        "      if i == vetor.ultima_posicao:\n",
        "        return -1\n",
        "\n",
        "\n",
        "  #versão do Igor\n",
        "  def pesquisa_linear_while(vetor, valor):\n",
        "    i = 0\n",
        "    while (i != vetor.ultima_posicao + 1):\n",
        "      if vetor.valores[i] > valor:\n",
        "        return -1\n",
        "      if vetor.valores[i] == valor:\n",
        "        return i\n",
        "      if i == vetor.ultima_posicao:\n",
        "        return -1\n",
        "      i +=1\n",
        "\n",
        "  #busca binária -> Igor\n",
        "  def pesquisa_binaria(vetor, valor):\n",
        "    esq = 0\n",
        "    dir = vetor.ultima_posicao\n",
        "    while(esq <= dir):\n",
        "      meio = int(((esq + dir) / 2))\n",
        "      if(vetor.valores[meio] == valor):\n",
        "        return meio\n",
        "      else:\n",
        "        if(vetor.valores[meio] < valor):\n",
        "          esq = meio +1\n",
        "        else:\n",
        "           dir = meio -1\n",
        "    return -1\n",
        "\n",
        "  #busca binária -> Guilherme\n",
        "  def busca_binaria_guilhereme(vetor, valor):\n",
        "    esquerda, direita = 0, vetor.ultima_posicao\n",
        "\n",
        "    while esquerda <= direita:\n",
        "      meio = (esquerda + direita) // 2\n",
        "\n",
        "      if vetor.valores[meio] == valor:\n",
        "        return meio\n",
        "      elif vetor.valores[meio] < valor:\n",
        "        esquerda = meio + 1\n",
        "      else:\n",
        "        direita = meio - 1\n",
        "    return -1\n",
        "\n",
        "  def pesquisa_binaria_prof(vetor, valor):\n",
        "    limite_inferior = 0 #low (esq.)\n",
        "    limite_superior = vetor.ultima_posicao #high (dir.)\n",
        "\n",
        "    while True:\n",
        "      posicao_atual = int((limite_inferior + limite_superior) / 2) #mid\n",
        "      #se achou na primeira divisão...:\n",
        "      if vetor.valores[posicao_atual] == valor:\n",
        "        return posicao_atual\n",
        "      elif limite_inferior > limite_superior: #se não encontrou...\n",
        "        return -1\n",
        "      else:\n",
        "        if vetor.valores[posicao_atual] < valor: #atualiza o lim. inferior (esq)\n",
        "          limite_inferior = posicao_atual + 1\n",
        "        else: #atualiza o limite superior (dir)\n",
        "          limite_superior = posicao_atual - 1\n",
        "\n",
        "  def excluir(vetor, valor):\n",
        "    posicao_exclusao = vetor.pesquisa_binaria(valor)\n",
        "    if posicao_exclusao == -1:\n",
        "      return -1\n",
        "    for i in range(posicao_exclusao, vetor.ultima_posicao):\n",
        "      vetor.valores[i] = vetor.valores[i + 1]\n",
        "    vetor.ultima_posicao -= 1\n",
        "    return posicao_exclusao, valor\n",
        "\n",
        "  def limpar_vetor(vetor):\n",
        "    vetor.ultima_posicao = -1\n",
        "    vetor.valores = np.empty(vetor.capacidade, dtype=int)"
      ],
      "metadata": {
        "id": "rZ4IePo-aYGH"
      },
      "execution_count": 82,
      "outputs": []
    },
    {
      "cell_type": "code",
      "source": [
        "vetor = VetorOrdenado(10)\n",
        "vetor.imprimir()"
      ],
      "metadata": {
        "colab": {
          "base_uri": "https://localhost:8080/"
        },
        "id": "zQn61JYneWGh",
        "outputId": "b95b5751-76d6-4b25-eed0-3bb4e5116812"
      },
      "execution_count": 83,
      "outputs": [
        {
          "output_type": "stream",
          "name": "stdout",
          "text": [
            "O vetor está vazio!\n"
          ]
        }
      ]
    },
    {
      "cell_type": "code",
      "source": [
        "vetor.inserir(-14)\n",
        "vetor.inserir(-40)\n",
        "vetor.inserir(10)\n",
        "vetor.inserir(665)\n",
        "vetor.inserir(900)\n",
        "vetor.inserir(7)\n",
        "vetor.inserir(23)\n",
        "vetor.inserir(29)\n",
        "vetor.inserir(33)\n",
        "vetor.inserir(950)\n",
        "vetor.inserir(10)"
      ],
      "metadata": {
        "id": "u0Z9n1eNgoLw",
        "colab": {
          "base_uri": "https://localhost:8080/"
        },
        "outputId": "5ce9c551-4cc5-4a13-8133-9131dc589043"
      },
      "execution_count": 84,
      "outputs": [
        {
          "output_type": "stream",
          "name": "stdout",
          "text": [
            "Capacidade máxima do vetor atingida!\n"
          ]
        }
      ]
    },
    {
      "cell_type": "code",
      "source": [
        "vetor.imprimir()"
      ],
      "metadata": {
        "colab": {
          "base_uri": "https://localhost:8080/"
        },
        "id": "n9MZ3zS8hYR4",
        "outputId": "a3d196ea-e595-47d3-feb4-eabf0b273b44"
      },
      "execution_count": 85,
      "outputs": [
        {
          "output_type": "stream",
          "name": "stdout",
          "text": [
            "[0] -> -40\n",
            "[1] -> -14\n",
            "[2] -> 7\n",
            "[3] -> 10\n",
            "[4] -> 23\n",
            "[5] -> 29\n",
            "[6] -> 33\n",
            "[7] -> 665\n",
            "[8] -> 900\n",
            "[9] -> 950\n"
          ]
        }
      ]
    },
    {
      "cell_type": "code",
      "source": [
        "vetor.pesquisa_linear(665)"
      ],
      "metadata": {
        "colab": {
          "base_uri": "https://localhost:8080/"
        },
        "id": "hXe0E89ypfNK",
        "outputId": "8e7066ed-1f3f-4f06-bed6-3729f16dec2a"
      },
      "execution_count": 86,
      "outputs": [
        {
          "output_type": "execute_result",
          "data": {
            "text/plain": [
              "7"
            ]
          },
          "metadata": {},
          "execution_count": 86
        }
      ]
    },
    {
      "cell_type": "code",
      "source": [
        "vetor.pesquisa_linear_while(950)"
      ],
      "metadata": {
        "colab": {
          "base_uri": "https://localhost:8080/"
        },
        "id": "hNaNWxQMiI8-",
        "outputId": "3f64cd1f-0b86-4c47-d7a9-f112788d3394"
      },
      "execution_count": 87,
      "outputs": [
        {
          "output_type": "execute_result",
          "data": {
            "text/plain": [
              "9"
            ]
          },
          "metadata": {},
          "execution_count": 87
        }
      ]
    },
    {
      "cell_type": "code",
      "source": [
        "vetor.pesquisa_binaria(-20)"
      ],
      "metadata": {
        "colab": {
          "base_uri": "https://localhost:8080/"
        },
        "id": "plIZvgViiudf",
        "outputId": "b1b550eb-8d3e-46a9-eaf5-f92692fc837b"
      },
      "execution_count": 88,
      "outputs": [
        {
          "output_type": "execute_result",
          "data": {
            "text/plain": [
              "-1"
            ]
          },
          "metadata": {},
          "execution_count": 88
        }
      ]
    },
    {
      "cell_type": "code",
      "source": [
        "vetor.busca_binaria_guilhereme(7)"
      ],
      "metadata": {
        "colab": {
          "base_uri": "https://localhost:8080/"
        },
        "id": "JFtnpgqAjRQV",
        "outputId": "47e938dc-c58e-4089-fc9d-03a444a96d29"
      },
      "execution_count": 89,
      "outputs": [
        {
          "output_type": "execute_result",
          "data": {
            "text/plain": [
              "2"
            ]
          },
          "metadata": {},
          "execution_count": 89
        }
      ]
    },
    {
      "cell_type": "code",
      "source": [
        "vetor.pesquisa_binaria_prof(-90)"
      ],
      "metadata": {
        "colab": {
          "base_uri": "https://localhost:8080/"
        },
        "id": "yoGUFWg7kaZ1",
        "outputId": "c12a543d-f254-40f3-f41c-986947b11d83"
      },
      "execution_count": 90,
      "outputs": [
        {
          "output_type": "execute_result",
          "data": {
            "text/plain": [
              "-1"
            ]
          },
          "metadata": {},
          "execution_count": 90
        }
      ]
    },
    {
      "cell_type": "code",
      "source": [
        "vetor.excluir(900)"
      ],
      "metadata": {
        "colab": {
          "base_uri": "https://localhost:8080/"
        },
        "id": "zQ5F9rv1mFX7",
        "outputId": "81d74900-3acf-4ea4-886f-e026ac1fcab7"
      },
      "execution_count": 91,
      "outputs": [
        {
          "output_type": "execute_result",
          "data": {
            "text/plain": [
              "(8, 900)"
            ]
          },
          "metadata": {},
          "execution_count": 91
        }
      ]
    },
    {
      "cell_type": "code",
      "source": [
        "vetor.imprimir()"
      ],
      "metadata": {
        "colab": {
          "base_uri": "https://localhost:8080/"
        },
        "id": "2x_3iF7zmHe0",
        "outputId": "40326de8-ffbd-4003-df28-3142c7ec797a"
      },
      "execution_count": 92,
      "outputs": [
        {
          "output_type": "stream",
          "name": "stdout",
          "text": [
            "[0] -> -40\n",
            "[1] -> -14\n",
            "[2] -> 7\n",
            "[3] -> 10\n",
            "[4] -> 23\n",
            "[5] -> 29\n",
            "[6] -> 33\n",
            "[7] -> 665\n",
            "[8] -> 950\n"
          ]
        }
      ]
    },
    {
      "cell_type": "code",
      "source": [
        "print(vetor.excluir(-40))\n",
        "vetor.imprimir()"
      ],
      "metadata": {
        "colab": {
          "base_uri": "https://localhost:8080/"
        },
        "id": "lbBQm0BamOtk",
        "outputId": "d4727ae5-c756-4466-9469-7b1727c32ec3"
      },
      "execution_count": 93,
      "outputs": [
        {
          "output_type": "stream",
          "name": "stdout",
          "text": [
            "(0, -40)\n",
            "[0] -> -14\n",
            "[1] -> 7\n",
            "[2] -> 10\n",
            "[3] -> 23\n",
            "[4] -> 29\n",
            "[5] -> 33\n",
            "[6] -> 665\n",
            "[7] -> 950\n"
          ]
        }
      ]
    },
    {
      "cell_type": "code",
      "source": [
        "vetor.inserir(36)"
      ],
      "metadata": {
        "id": "Mo3EjiK_mugd"
      },
      "execution_count": 94,
      "outputs": []
    },
    {
      "cell_type": "code",
      "source": [
        "vetor.imprimir()"
      ],
      "metadata": {
        "colab": {
          "base_uri": "https://localhost:8080/"
        },
        "id": "kq93rXbYm_Vi",
        "outputId": "4dddfc65-eb05-4940-8969-2af9d49aacfe"
      },
      "execution_count": 95,
      "outputs": [
        {
          "output_type": "stream",
          "name": "stdout",
          "text": [
            "[0] -> -14\n",
            "[1] -> 7\n",
            "[2] -> 10\n",
            "[3] -> 23\n",
            "[4] -> 29\n",
            "[5] -> 33\n",
            "[6] -> 36\n",
            "[7] -> 665\n",
            "[8] -> 950\n"
          ]
        }
      ]
    },
    {
      "cell_type": "code",
      "source": [
        "vetor.limpar_vetor()"
      ],
      "metadata": {
        "id": "wOYAMysRm_ON"
      },
      "execution_count": 96,
      "outputs": []
    },
    {
      "cell_type": "code",
      "source": [
        "vetor.imprimir()"
      ],
      "metadata": {
        "colab": {
          "base_uri": "https://localhost:8080/"
        },
        "id": "hOvPhh4inDql",
        "outputId": "97300339-9798-4f74-9d6f-c91d24a3365f"
      },
      "execution_count": 97,
      "outputs": [
        {
          "output_type": "stream",
          "name": "stdout",
          "text": [
            "O vetor está vazio!\n"
          ]
        }
      ]
    }
  ]
}